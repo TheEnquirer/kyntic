{
 "cells": [
  {
   "cell_type": "markdown",
   "metadata": {},
   "source": [
    "# The Plan\n",
    "\n",
    "- Get some data viz setup\n",
    "- experiment with kalman filters\n",
    "- mess with hotelling algos"
   ]
  },
  {
   "cell_type": "code",
   "execution_count": null,
   "metadata": {},
   "outputs": [],
   "source": [
    "# imports\n",
    "%matplotlib inline\n",
    "!pip install banpei\n",
    "!pip uninstall numpy --yes\n",
    "!pip install numpy\n",
    "\n",
    "import matplotlib\n",
    "import pandas as pd\n",
    "import numpy as np\n",
    "import banpei\n",
    "import matplotlib.pyplot as plt\n",
    "print(\"complete\")"
   ]
  },
  {
   "cell_type": "code",
   "execution_count": null,
   "metadata": {},
   "outputs": [],
   "source": [
    "data = pd.read_csv('./data/ST/accelerometer.csv')\n",
    "data.plot(x=\"epoc (ms)\", y=\"x-axis (g)\", color=\"red\")\n",
    "data.plot(x=\"epoc (ms)\", y=\"y-axis (g)\", color=\"green\")\n",
    "data.plot(x=\"epoc (ms)\", y=\"z-axis (g)\")\n",
    "# print(data[\"x-axis (g)\"])"
   ]
  },
  {
   "cell_type": "code",
   "execution_count": null,
   "metadata": {},
   "outputs": [],
   "source": [
    "x = data[\"x-axis (g)\"]\n",
    "model   = banpei.SST(w=50)\n",
    "results = model.detect(data)\n",
    "print(result)"
   ]
  },
  {
   "cell_type": "code",
   "execution_count": null,
   "metadata": {},
   "outputs": [],
   "source": []
  }
 ],
 "metadata": {
  "kernelspec": {
   "display_name": "Python 3",
   "language": "python",
   "name": "python3"
  },
  "language_info": {
   "codemirror_mode": {
    "name": "ipython",
    "version": 3
   },
   "file_extension": ".py",
   "mimetype": "text/x-python",
   "name": "python",
   "nbconvert_exporter": "python",
   "pygments_lexer": "ipython3",
   "version": "3.8.5"
  }
 },
 "nbformat": 4,
 "nbformat_minor": 4
}
